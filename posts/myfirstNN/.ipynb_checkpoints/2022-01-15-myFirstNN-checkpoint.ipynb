{
 "cells": [
  {
   "cell_type": "raw",
   "metadata": {},
   "source": [
    "---\n",
    "title: \"Tiny bug world with neuro evolution (2018)\"\n",
    "author: \"Niyazi Kemer\"\n",
    "date: \"2022-01-15\"\n",
    "categories: [neuro evolution]\n",
    "image: \"bugs.png\"\n",
    "---\n",
    "This is from 2018, tutorials and trainings aside my first attempt for training a neural network. It does not have a traditional loss function or optimization method but it uses neuroevolution for training. I use p5.JS for the visualization and tensorflow.JS for the model."
   ]
  },
  {
   "cell_type": "markdown",
   "metadata": {},
   "source": [
    "[Github Link is here](https://github.com/niyazikemer/Learning/tree/turnAndGo/050_TF_MODEL)"
   ]
  },
  {
   "cell_type": "markdown",
   "metadata": {},
   "source": [
    "{{< video https://youtu.be/RzqHf3qAEeY >}}"
   ]
  }
 ],
 "metadata": {
  "kernelspec": {
   "display_name": "Python 3 (ipykernel)",
   "language": "python",
   "name": "python3"
  }
 },
 "nbformat": 4,
 "nbformat_minor": 4
}
